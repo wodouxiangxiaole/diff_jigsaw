{
 "cells": [
  {
   "cell_type": "code",
   "execution_count": 1,
   "metadata": {},
   "outputs": [],
   "source": [
    "set1 = [\n",
    "    [0, 204, 0],\n",
    "    [204, 0, 0],\n",
    "    [0, 204, 0],\n",
    "    [127, 127, 0],\n",
    "    [127, 0, 127],\n",
    "    [0, 127, 127],\n",
    "    [76, 153, 0],\n",
    "    [153, 0, 76],\n",
    "    [76, 0, 153],\n",
    "    [153, 76, 0],\n",
    "    [76, 0, 153],\n",
    "    [153, 0, 76],\n",
    "    [204, 51, 127],\n",
    "    [204, 51, 127],\n",
    "    [51, 204, 127],\n",
    "    [51, 127, 204],\n",
    "    [127, 51, 204],\n",
    "    [127, 204, 51],\n",
    "    [76, 76, 178],\n",
    "    [76, 178, 76],\n",
    "    [178, 76, 76],\n",
    "]\n",
    "\n",
    "\n",
    "# Set 3: Analogous Colors\n",
    "set3 = [\n",
    "    (227, 38, 54),     # Crimson\n",
    "    (255, 140, 0),     # Dark Orange\n",
    "    (255, 165, 0),     # Orange\n",
    "    (255, 195, 0),     # Orange Peel\n",
    "    (255, 225, 0),     # Canary Yellow\n",
    "    (255, 255, 0),     # Yellow\n",
    "    (218, 165, 32),    # Golden Rod\n",
    "    (188, 143, 143),   # Rosy Brown\n",
    "    (205, 92, 92),     # Indian Red\n",
    "    (188, 143, 143),   # Rosy Brown\n",
    "    (244, 164, 96),    # Sandy Brown\n",
    "    (210, 105, 30),    # Chocolate\n",
    "    (139, 69, 19),     # Saddle Brown\n",
    "    (165, 42, 42),     # Brown\n",
    "    (128, 0, 0),       # Maroon\n",
    "    (85, 107, 47),     # Dark Olive Green\n",
    "    (107, 142, 35),    # Olive Drab\n",
    "    (124, 252, 0),     # Lawn Green\n",
    "    (127, 255, 0),     # Chartreuse\n",
    "    (173, 255, 47),    # Green Yellow\n",
    "]\n",
    "\n",
    "# Set 4: Triadic Colors\n",
    "set4 = [\n",
    "    (255, 0, 0),       # Red\n",
    "    (0, 255, 0),       # Lime\n",
    "    (0, 0, 255),       # Blue\n",
    "    (255, 255, 0),     # Yellow\n",
    "    (0, 255, 255),     # Cyan\n",
    "    (255, 0, 255),     # Magenta\n",
    "    (192, 192, 192),   # Silver\n",
    "    (128, 128, 0),     # Olive\n",
    "    (128, 0, 128),     # Purple\n",
    "    (0, 128, 128),     # Teal\n",
    "    (255, 69, 0),      # Orange Red\n",
    "    (219, 112, 147),   # Pale Violet Red\n",
    "    (199, 21, 133),    # Medium Violet Red\n",
    "    (255, 20, 147),    # Deep Pink\n",
    "    (255, 105, 180),   # Hot Pink\n",
    "    (70, 130, 180),    # Steel Blue\n",
    "    (100, 149, 237),   # Cornflower Blue\n",
    "    (0, 191, 255),     # Deep Sky Blue\n",
    "    (30, 144, 255),    # Dodger Blue\n",
    "    (65, 105, 225),    # Royal Blue\n",
    "]\n",
    "\n",
    "# Set 5: Split-Complementary Colors\n",
    "set5 = [\n",
    "    (255, 0, 0),       # Red\n",
    "    (0, 250, 154),     # Medium Spring Green\n",
    "    (32, 178, 170),    # Light Sea Green\n",
    "    (218, 112, 214),   # Orchid\n",
    "    (199, 21, 133),    # Medium Violet Red\n",
    "    (219, 112, 147),   # Pale Violet Red\n",
    "    (255, 99, 71),     # Tomato\n",
    "    (255, 215, 0),     # Gold\n",
    "    (0, 206, 209),     # Dark Turquoise\n",
    "    (123, 104, 238),   # Medium Slate Blue\n",
    "    (147, 112, 219),   # Medium Purple\n",
    "    (60, 179, 113),    # Medium Sea Green\n",
    "    (32, 178, 170),    # Light Sea Green\n",
    "    (50, 205, 50),     # Lime Green\n",
    "    (72, 209, 204),    # Medium Turquoise\n",
    "    (25, 25, 112),     # Midnight Blue\n",
    "    (255, 140, 0),     # Dark Orange\n",
    "    (255, 165, 0),     # Orange\n",
    "    (240, 230, 140),   # Khaki\n",
    "    (189, 183, 107)    # Dark Khaki\n",
    "]"
   ]
  },
  {
   "cell_type": "code",
   "execution_count": 2,
   "metadata": {},
   "outputs": [],
   "source": [
    "import os\n",
    "os.chdir(\"../\")"
   ]
  },
  {
   "cell_type": "code",
   "execution_count": 3,
   "metadata": {},
   "outputs": [
    {
     "name": "stdout",
     "output_type": "stream",
     "text": [
      "project_root_path: ${hydra:runtime.cwd}\n",
      "experiment_output_path: ${project_root_path}/output/${experiment_name}\n",
      "ckpt_path: null\n",
      "experiment_name: null\n",
      "train_seed: 123\n",
      "test_seed: 123\n",
      "logger:\n",
      "  _target_: lightning.pytorch.loggers.WandbLogger\n",
      "  project: jigsaw3d_translation_only\n",
      "  name: ${experiment_name}\n",
      "  save_dir: ${experiment_output_path}/training\n",
      "inference_dir: null\n",
      "trainer:\n",
      "  accelerator: gpu\n",
      "  max_epochs: 4000\n",
      "  num_sanity_val_steps: 0\n",
      "  check_val_every_n_epoch: 100\n",
      "  precision: 32\n",
      "  log_every_n_steps: 10\n",
      "checkpoint_monitor:\n",
      "  _target_: lightning.pytorch.callbacks.ModelCheckpoint\n",
      "  monitor: eval/part_acc\n",
      "  mode: max\n",
      "  save_last: true\n",
      "  save_top_k: 3\n",
      "  every_n_epochs: ${trainer.check_val_every_n_epoch}\n",
      "  filename: '{epoch:03d}'\n",
      "  dirpath: ${experiment_output_path}/training\n",
      "data:\n",
      "  batch_size: 50\n",
      "  val_batch_size: 50\n",
      "  num_workers: 10\n",
      "  save_nepoch: 50\n",
      "  val_nepoch: 100\n",
      "  data_fn: everyday.{}.txt\n",
      "  data_dir: ../vq_jigsaw/latent_data/bottle_volume_constrained_no_rot/train/\n",
      "  data_val_dir: ../vq_jigsaw/latent_data/bottle_volume_constrained_no_rot/val\n",
      "  category: Bottle\n",
      "  rot_range: -1\n",
      "  overfit: -1\n",
      "  ignore_small_scale: false\n",
      "  data_keys:\n",
      "  - part_ids\n",
      "  num_pc_points: 5000\n",
      "  min_num_part: 2\n",
      "  max_num_part: 20\n",
      "  shuffle_parts: false\n",
      "  all_category:\n",
      "  - BeerBottle\n",
      "  - Bowl\n",
      "  - Cup\n",
      "  - DrinkingUtensil\n",
      "  - Mug\n",
      "  - Plate\n",
      "  - Spoon\n",
      "  - Teacup\n",
      "  - ToyFigure\n",
      "  - WineBottle\n",
      "  - Bottle\n",
      "  - Cookie\n",
      "  - DrinkBottle\n",
      "  - Mirror\n",
      "  - PillBottle\n",
      "  - Ring\n",
      "  - Statue\n",
      "  - Teapot\n",
      "  - Vase\n",
      "  - WineGlass\n",
      "  colors:\n",
      "  - - 0\n",
      "    - 204\n",
      "    - 0\n",
      "  - - 204\n",
      "    - 0\n",
      "    - 0\n",
      "  - - 0\n",
      "    - 204\n",
      "    - 0\n",
      "  - - 127\n",
      "    - 127\n",
      "    - 0\n",
      "  - - 127\n",
      "    - 0\n",
      "    - 127\n",
      "  - - 0\n",
      "    - 127\n",
      "    - 127\n",
      "  - - 76\n",
      "    - 153\n",
      "    - 0\n",
      "  - - 153\n",
      "    - 0\n",
      "    - 76\n",
      "  - - 76\n",
      "    - 0\n",
      "    - 153\n",
      "  - - 153\n",
      "    - 76\n",
      "    - 0\n",
      "  - - 76\n",
      "    - 0\n",
      "    - 153\n",
      "  - - 153\n",
      "    - 0\n",
      "    - 76\n",
      "  - - 204\n",
      "    - 51\n",
      "    - 127\n",
      "  - - 204\n",
      "    - 51\n",
      "    - 127\n",
      "  - - 51\n",
      "    - 204\n",
      "    - 127\n",
      "  - - 51\n",
      "    - 127\n",
      "    - 204\n",
      "  - - 127\n",
      "    - 51\n",
      "    - 204\n",
      "  - - 127\n",
      "    - 204\n",
      "    - 51\n",
      "  - - 76\n",
      "    - 76\n",
      "    - 178\n",
      "  - - 76\n",
      "    - 178\n",
      "    - 76\n",
      "  - - 178\n",
      "    - 76\n",
      "    - 76\n",
      "model:\n",
      "  model_name:\n",
      "    _target_: jigsaw.jigsaw.Jigsaw3D\n",
      "  ref_part: false\n",
      "  scheduler: ddpm\n",
      "  cd_loss: false\n",
      "  reset_timestep: -1\n",
      "  weighted_small_pieces: false\n",
      "  num_dim: 64\n",
      "  num_point: 25\n",
      "  type: avg_pool\n",
      "  embedding_type: mlp\n",
      "  out_channels: 3\n",
      "  std: 1\n",
      "  multires: 10\n",
      "  embed_dim: 256\n",
      "  num_layers: 6\n",
      "  num_heads: 4\n",
      "  dropout_rate: 0.1\n",
      "  DDPM_TRAIN_STEPS: 1000\n",
      "  DDPM_BETA_SCHEDULE: linear\n",
      "  timestep_spacing: leading\n",
      "  PREDICT_TYPE: epsilon\n",
      "  BETA_START: 0.0001\n",
      "  BETA_END: 0.02\n",
      "  condition_latent: true\n",
      "  condition_position: true\n",
      "  position_encoding: true\n",
      "  num_inference_steps: 100\n",
      "  lr_scheduler:\n",
      "    _target_: torch.optim.lr_scheduler.MultiStepLR\n",
      "    milestones:\n",
      "    - 700\n",
      "    - 1300\n",
      "    gamma: 0.1\n",
      "\n"
     ]
    }
   ],
   "source": [
    "from hydra import compose, initialize\n",
    "from omegaconf import OmegaConf\n",
    "\n",
    "with initialize(version_base=None, config_path=\"../config\"):\n",
    "    cfg = compose(config_name=\"global_config\")\n",
    "    print(OmegaConf.to_yaml(cfg))"
   ]
  },
  {
   "cell_type": "code",
   "execution_count": 4,
   "metadata": {},
   "outputs": [
    {
     "name": "stderr",
     "output_type": "stream",
     "text": [
      "/localhome/zwa170/miniconda3/envs/assembly/lib/python3.8/site-packages/tqdm/auto.py:21: TqdmWarning: IProgress not found. Please update jupyter and ipywidgets. See https://ipywidgets.readthedocs.io/en/stable/user_install.html\n",
      "  from .autonotebook import tqdm as notebook_tqdm\n"
     ]
    }
   ],
   "source": [
    "from xgutils.vis import visutil, fresnelvis, vis3d\n",
    "from xgutils.vis.fresnelvis import FresnelRenderer\n",
    "import numpy as np\n",
    "import trimesh\n",
    "import os\n",
    "from xgutils import sysutil\n",
    "from pytorch3d import transforms\n",
    "\n",
    "\n",
    "camera_kwargs = {\n",
    "    'camera_type': 'orthographic',  # Choose between 'perspective' or 'orthographic'\n",
    "    'fit_camera': False,           # Set to True to auto-fit the camera to the scene\n",
    "    'camPos': (10, 10, 10),        # Camera position in the scene (x, y, z)\n",
    "    'camLookat': (0, 0, 0),        # Point in space that the camera looks at (x, y, z)\n",
    "    'camUp': (0, 1, 0),            # 'Up' direction for the camera (x, y, z)\n",
    "    'camHeight': 5,                # Height of the camera lens\n",
    "    'resolution': (256, 256),       # Camera image resolution\n",
    "    'samples': 8\n",
    "    # Additional parameters can be added as needed\n",
    "}\n",
    "\n",
    "render_kwargs = {\n",
    "    # Define additional rendering settings (preview, shadow_catcher, etc.)\n",
    "    \"preview\": True,\n",
    "    \"shadow_catcher\": False,\n",
    "    # \"min_y\": -1,\n",
    "    # ... other kwargs that your renderer might require\n",
    "}\n",
    "\n",
    "\n"
   ]
  },
  {
   "cell_type": "code",
   "execution_count": 5,
   "metadata": {},
   "outputs": [
    {
     "name": "stdout",
     "output_type": "stream",
     "text": [
      "(1000, 14, 3)\n"
     ]
    }
   ],
   "source": [
    "import glob\n",
    "\n",
    "inf_dir = \"forward_translation/custom_0.01_fixed/\"\n",
    "file = str(209)\n",
    "\n",
    "path = os.path.join(inf_dir, file)\n",
    "\n",
    "# Find the first file that matches the predict pattern\n",
    "transformation = np.load(f\"{path}/translation.npy\")\n",
    "gt_transformation = np.load(f\"{path}/gt.npy\")\n",
    "\n",
    "print(transformation.shape)\n",
    "\n",
    "\n",
    "# scale = np.load(f\"../vq_jigsaw/latent_data/bottle_volume_constrained_no_rot/val/{file}.npz\")[\"scale\"]"
   ]
  },
  {
   "cell_type": "code",
   "execution_count": 6,
   "metadata": {},
   "outputs": [
    {
     "name": "stdout",
     "output_type": "stream",
     "text": [
      "['piece_0.obj', 'piece_1.obj', 'piece_10.obj', 'piece_11.obj', 'piece_12.obj', 'piece_13.obj', 'piece_2.obj', 'piece_3.obj', 'piece_4.obj', 'piece_5.obj', 'piece_6.obj', 'piece_7.obj', 'piece_8.obj', 'piece_9.obj']\n"
     ]
    }
   ],
   "source": [
    "import torch\n",
    "\n",
    "def normalize_to_centroid(vertices, translation):\n",
    "    centroid = np.mean(vertices, axis=0)\n",
    "    return vertices - translation\n",
    "\n",
    "import re\n",
    "def natural_sort_key(s, _nsre=re.compile('([0-9]+)')):\n",
    "    return [int(text) if text.isdigit() else text.lower() for text in re.split(_nsre, s)]\n",
    "\n",
    "\n",
    "with open(f\"{path}/mesh_file_path.txt\", \"r\") as f:\n",
    "    file_path = f.read()\n",
    "\n",
    "mesh_dir_path = os.path.join(\"../Breaking-Bad-Dataset.github.io/data/volume_constrained/\", file_path)\n",
    "\n",
    "obj_files = [file for file in os.listdir(mesh_dir_path) if file.endswith('.obj')]\n",
    "parts = []\n",
    "obj_files.sort()\n",
    "\n",
    "print(obj_files)\n",
    "\n",
    "count = 0\n",
    "\n",
    "for i, obj_file in enumerate(obj_files):\n",
    "    full_path_to_obj = os.path.join(mesh_dir_path, obj_file)\n",
    "    mesh = trimesh.load(full_path_to_obj)\n",
    "    # print(obj_file)\n",
    "\n",
    "    translation = gt_transformation[i, :3]\n",
    "\n",
    "    vert = normalize_to_centroid(np.array(mesh.vertices), translation)\n",
    "        \n",
    "    # Create a dictionary for each part containing vertices and faces\n",
    "    part = {\n",
    "        \"vert\": vert,\n",
    "        \"face\": np.array(mesh.faces)\n",
    "        # Assuming FresnelaRenderer uses \"vert\" and \"face\" keywords\n",
    "    }\n",
    "    \n",
    "    parts.append(part)\n",
    "    count += 1\n"
   ]
  },
  {
   "cell_type": "code",
   "execution_count": 7,
   "metadata": {},
   "outputs": [],
   "source": [
    "def render_parts(parts, camera_kwargs, trans, **kwargs):\n",
    "    renderer = FresnelRenderer(camera_kwargs, **kwargs, lights=\"lightbox\")\n",
    "\n",
    "    rotation_matrix = trimesh.transformations.rotation_matrix(\n",
    "        np.radians(-90), [1, 0, 0], point=[0, 0, 0]\n",
    "    )\n",
    "\n",
    "    for i,shape in enumerate(parts):\n",
    "\n",
    "        translation = trans[i][:3]\n",
    "        # normalized to unit quaternion\n",
    "        vert = shape[\"vert\"]\n",
    "\n",
    "        vert = vert + translation\n",
    "\n",
    "        vert = vert.dot(rotation_matrix[:3, :3].T)\n",
    "        \n",
    "        # color = fresnelvis.unique_colors[i]\n",
    "        color = np.array(set3[i]) / 255.0\n",
    "        renderer.add_mesh(vert, face=shape[\"face\"], color=color,\n",
    "            solid=0., roughness=.2, specular=.8, spec_trans=0., metal=0.2\n",
    "        )\n",
    "\n",
    "    img = renderer.render(**kwargs)\n",
    "    return img"
   ]
  },
  {
   "cell_type": "code",
   "execution_count": 8,
   "metadata": {},
   "outputs": [
    {
     "data": {
      "image/png": "[encoded data removed]",
      "text/plain": [
       "<Figure size 256x256 with 1 Axes>"
      ]
     },
     "metadata": {},
     "output_type": "display_data"
    },
    {
     "data": {
      "text/plain": [
       "(<Figure size 256x256 with 1 Axes>, <Axes: >)"
      ]
     },
     "execution_count": 8,
     "metadata": {},
     "output_type": "execute_result"
    }
   ],
   "source": [
    "img = render_parts(parts, camera_kwargs, trans=gt_transformation, **render_kwargs)\n",
    "visutil.showImg(img)\n"
   ]
  },
  {
   "cell_type": "code",
   "execution_count": 9,
   "metadata": {},
   "outputs": [
    {
     "name": "stdout",
     "output_type": "stream",
     "text": [
      "(1000, 14, 3)\n"
     ]
    }
   ],
   "source": [
    "print(transformation.shape)"
   ]
  },
  {
   "cell_type": "code",
   "execution_count": 10,
   "metadata": {},
   "outputs": [
    {
     "name": "stderr",
     "output_type": "stream",
     "text": [
      "100%|##########| 999/999 [00:33<00:00, 29.78it/s]\n"
     ]
    },
    {
     "name": "stdout",
     "output_type": "stream",
     "text": [
      "Executing command:  ffmpeg -framerate 49.95 -f image2 -i /localhome/zwa170/.temp_imgarray2video/_IHWII1KCV8/%d.png -c:v libx264 -pix_fmt yuv420p -r 25 /localhome/zwa170/.temp_imgarray2video/H6GN6SPWMR.mp4  -y\n",
      "{'BASH_ENV': '/cvmfs/rcg.sfu.ca/sw/env/Ubuntu/20.04/amd64/CORE/init/bash', 'BASH_FUNC_ml%%': '() {  module ml \"$@\"\\n}', 'BASH_FUNC_module%%': '() {  unset _mlshdbg;\\n if [ \"${MODULES_SILENT_SHELL_DEBUG:-0}\" = \\'1\\' ]; then\\n case \"$-\" in \\n *v*x*)\\n set +vx;\\n _mlshdbg=\\'vx\\'\\n ;;\\n *v*)\\n set +v;\\n _mlshdbg=\\'v\\'\\n ;;\\n *x*)\\n set +x;\\n _mlshdbg=\\'x\\'\\n ;;\\n *)\\n _mlshdbg=\\'\\'\\n ;;\\n esac;\\n fi;\\n unset _mlre _mlIFS;\\n if [ -n \"${IFS+x}\" ]; then\\n _mlIFS=$IFS;\\n fi;\\n IFS=\\' \\';\\n for _mlv in ${MODULES_RUN_QUARANTINE:-};\\n do\\n if [ \"${_mlv}\" = \"${_mlv##*[!A-Za-z0-9_]}\" -a \"${_mlv}\" = \"${_mlv#[0-9]}\" ]; then\\n if [ -n \"`eval \\'echo ${\\'$_mlv\\'+x}\\'`\" ]; then\\n _mlre=\"${_mlre:-}${_mlv}_modquar=\\'`eval \\'echo ${\\'$_mlv\\'}\\'`\\' \";\\n fi;\\n _mlrv=\"MODULES_RUNENV_${_mlv}\";\\n _mlre=\"${_mlre:-}${_mlv}=\\'`eval \\'echo ${\\'$_mlrv\\':-}\\'`\\' \";\\n fi;\\n done;\\n if [ -n \"${_mlre:-}\" ]; then\\n eval `eval ${_mlre}/usr/bin/tclsh /cvmfs/rcg.sfu.ca/sw/env/Ubuntu/20.04/amd64/CORE/libexec/modulecmd.tcl bash \\'\"$@\"\\'`;\\n else\\n eval `/usr/bin/tclsh /cvmfs/rcg.sfu.ca/sw/env/Ubuntu/20.04/amd64/CORE/libexec/modulecmd.tcl bash \"$@\"`;\\n fi;\\n _mlstatus=$?;\\n if [ -n \"${_mlIFS+x}\" ]; then\\n IFS=$_mlIFS;\\n else\\n unset IFS;\\n fi;\\n unset _mlre _mlv _mlrv _mlIFS;\\n if [ -n \"${_mlshdbg:-}\" ]; then\\n set -$_mlshdbg;\\n fi;\\n unset _mlshdbg;\\n return $_mlstatus\\n}', 'BASH_FUNC_switchml%%': '() {  typeset swfound=1;\\n if [ \"${MODULES_USE_COMPAT_VERSION:-0}\" = \\'1\\' ]; then\\n typeset swname=\\'main\\';\\n if [ -e /cvmfs/rcg.sfu.ca/sw/env/Ubuntu/20.04/amd64/CORE/libexec/modulecmd.tcl ]; then\\n typeset swfound=0;\\n unset MODULES_USE_COMPAT_VERSION;\\n fi;\\n else\\n typeset swname=\\'compatibility\\';\\n if [ -e /cvmfs/rcg.sfu.ca/sw/env/Ubuntu/20.04/amd64/CORE/libexec/modulecmd-compat ]; then\\n typeset swfound=0;\\n MODULES_USE_COMPAT_VERSION=1;\\n export MODULES_USE_COMPAT_VERSION;\\n fi;\\n fi;\\n if [ $swfound -eq 0 ]; then\\n echo \"Switching to Modules $swname version\";\\n source /cvmfs/rcg.sfu.ca/sw/env/Ubuntu/20.04/amd64/CORE/init/bash;\\n else\\n echo \"Cannot switch to Modules $swname version, command not found\";\\n return 1;\\n fi\\n}', 'CHROME_DESKTOP': 'code-url-handler.desktop', 'CONDA_DEFAULT_ENV': 'assembly', 'CONDA_EXE': '/localhome/zwa170/miniconda3/bin/conda', 'CONDA_PREFIX': '/localhome/zwa170/miniconda3/envs/assembly', 'CONDA_PROMPT_MODIFIER': '(assembly) ', 'CONDA_PYTHON_EXE': '/localhome/zwa170/miniconda3/bin/python', 'CONDA_SHLVL': '2', 'DBUS_SESSION_BUS_ADDRESS': 'unix:path=/run/user/634853/bus', 'DEFAULTS_PATH': '/usr/share/gconf/ubuntu.default.path', 'DESKTOP_SESSION': 'ubuntu', 'DISPLAY': ':1', 'ENV': '/cvmfs/rcg.sfu.ca/sw/env/Ubuntu/20.04/amd64/CORE/init/profile.sh', 'GDK_BACKEND': 'x11', 'GDMSESSION': 'ubuntu', 'GIO_LAUNCHED_DESKTOP_FILE': '/usr/share/applications/code.desktop', 'GIO_LAUNCHED_DESKTOP_FILE_PID': '2530472', 'GJS_DEBUG_OUTPUT': 'stderr', 'GJS_DEBUG_TOPICS': 'JS ERROR;JS LOG', 'GNOME_DESKTOP_SESSION_ID': 'this-is-deprecated', 'GNOME_SHELL_SESSION_MODE': 'ubuntu', 'GPG_AGENT_INFO': '/run/user/634853/gnupg/S.gpg-agent:0:1', 'GTK_MODULES': 'gail:atk-bridge', 'HOME': '/localhome/zwa170', 'INFOPATH': '/cvmfs/rcg.sfu.ca/sw/texlive/latest/texmf-dist/doc/info', 'INFOPATH_modshare': '/cvmfs/rcg.sfu.ca/sw/texlive/latest/texmf-dist/doc/info:1', 'INVOCATION_ID': 'a820188a2adf4af4bfab6e28f4f20247', 'JOURNAL_STREAM': '9:94703', 'KRB5CCNAME': 'FILE:/tmp/krb5cc_634853_xgc9RG', 'LANG': 'en_CA.UTF-8', 'LANGUAGE': 'en_CA:en', 'LESSCLOSE': '/usr/bin/lesspipe %s %s', 'LESSOPEN': '| /usr/bin/lesspipe %s', 'LOADEDMODULES': 'ENVIRONMENTS/RCG:use.own', 'LOADEDMODULES_modshare': 'use.own:1:ENVIRONMENTS/RCG:1', 'LOGNAME': 'zwa170', 'MANAGERPID': '8882', 'MANDATORY_PATH': '/usr/share/gconf/ubuntu.mandatory.path', 'MANPATH': '/cvmfs/rcg.sfu.ca/sw/local-linux/man:/cvmfs/rcg.sfu.ca/sw/texlive/latest/texmf-dist/doc/man::', 'MANPATH_modshare': '/cvmfs/rcg.sfu.ca/sw/texlive/latest/texmf-dist/doc/man:1::1:/cvmfs/rcg.sfu.ca/sw/local-linux/man:1', 'MODULEPATH': '/cvmfs/rcg.sfu.ca/sw/env/Ubuntu/20.04/amd64/CORE/modulefiles:/cvmfs/rcg.sfu.ca/sw/env/Ubuntu/20.04/amd64/modulefiles:/localhome/zwa170/privatemodules', 'MODULEPATH_modshare': '/cvmfs/rcg.sfu.ca/sw/env/Ubuntu/20.04/amd64/CORE/modulefiles:1:/cvmfs/rcg.sfu.ca/sw/env/Ubuntu/20.04/amd64/modulefiles:1:/localhome/zwa170/privatemodules:1', 'MODULESHOME': '/cvmfs/rcg.sfu.ca/sw/env/Ubuntu/20.04/amd64/CORE', 'MODULES_CMD': '/cvmfs/rcg.sfu.ca/sw/env/Ubuntu/20.04/amd64/CORE/libexec/modulecmd.tcl', 'ORIGINAL_XDG_CURRENT_DESKTOP': 'ubuntu:GNOME', 'PATH': '/localhome/zwa170/miniconda3/envs/assembly/bin:/localhome/zwa170/miniconda3/condabin:/cvmfs/rcg.sfu.ca/sw/local-linux/bin:/cvmfs/rcg.sfu.ca/sw/texlive/latest/bin/x86_64-linux:/cvmfs/rcg.sfu.ca/sw/env/Ubuntu/20.04/amd64/CORE/bin:/usr/local/sbin:/usr/local/bin:/usr/sbin:/usr/bin:/sbin:/bin:/usr/games:/usr/local/games:/snap/bin:/local-scratch/localhome/zwa170/.local/share/JetBrains/Toolbox/scripts:/local-scratch/localhome/zwa170/.local/share/JetBrains/Toolbox/scripts', 'PATH_modshare': '/usr/bin:1:/usr/local/bin:1:/cvmfs/rcg.sfu.ca/sw/texlive/latest/bin/x86_64-linux:1:/cvmfs/rcg.sfu.ca/sw/local-linux/bin:1:/bin:1:/cvmfs/rcg.sfu.ca/sw/env/Ubuntu/20.04/amd64/CORE/bin:1:/snap/bin:1:/sbin:1:/usr/sbin:1:/usr/games:1:/usr/local/sbin:1:/usr/local/games:1', 'PRINTER': 'cups-pdf', 'PWD': '/localhome/zwa170', 'QT_ACCESSIBILITY': '1', 'QT_IM_MODULE': 'ibus', 'SBX_CHROME_API_RQ': '1', 'SESSION_MANAGER': 'local/cs-vml-47:@/tmp/.ICE-unix/9141,unix/cs-vml-47:/tmp/.ICE-unix/9141', 'SHELL': '/bin/bash', 'SHLVL': '1', 'SSH_AGENT_PID': '9105', 'SSH_AUTH_SOCK': '/run/user/634853/keyring/ssh', 'USER': 'zwa170', 'USERNAME': 'zwa170', 'VSCODE_AMD_ENTRYPOINT': 'vs/workbench/api/node/extensionHostProcess', 'VSCODE_CODE_CACHE_PATH': '/localhome/zwa170/.config/Code/CachedData/0ee08df0cf4527e40edc9aa28f4b5bd38bbff2b2', 'VSCODE_CRASH_REPORTER_PROCESS_TYPE': 'extensionHost', 'VSCODE_CWD': '/local-scratch/localhome/zwa170', 'VSCODE_HANDLES_UNCAUGHT_ERRORS': 'true', 'VSCODE_IPC_HOOK': '/run/user/634853/vscode-3a3dd6c7-1.85-main.sock', 'VSCODE_NLS_CONFIG': '{\"locale\":\"en-gb\",\"osLocale\":\"en-ca\",\"availableLanguages\":{},\"_languagePackSupport\":true}', 'VSCODE_PID': '2530472', 'WINDOWPATH': '2', 'XAUTHORITY': '/run/user/634853/gdm/Xauthority', 'XDG_CONFIG_DIRS': '/etc/xdg/xdg-ubuntu:/etc/xdg', 'XDG_CURRENT_DESKTOP': 'Unity', 'XDG_DATA_DIRS': '/usr/share/ubuntu:/usr/local/share:/usr/share:/var/lib/snapd/desktop', 'XDG_MENU_PREFIX': 'gnome-', 'XDG_RUNTIME_DIR': '/run/user/634853', 'XDG_SESSION_CLASS': 'user', 'XDG_SESSION_DESKTOP': 'ubuntu', 'XDG_SESSION_TYPE': 'x11', 'XMODIFIERS': '@im=ibus', '_': '/localhome/zwa170/miniconda3/envs/assembly/bin/python', '_LMFILES_': '/cvmfs/rcg.sfu.ca/sw/env/Ubuntu/20.04/amd64/modulefiles/ENVIRONMENTS/RCG:/cvmfs/rcg.sfu.ca/sw/env/Ubuntu/20.04/amd64/CORE/modulefiles/use.own', '_LMFILES__modshare': '/cvmfs/rcg.sfu.ca/sw/env/Ubuntu/20.04/amd64/CORE/modulefiles/use.own:1:/cvmfs/rcg.sfu.ca/sw/env/Ubuntu/20.04/amd64/modulefiles/ENVIRONMENTS/RCG:1', 'ELECTRON_RUN_AS_NODE': '1', 'VSCODE_L10N_BUNDLE_LOCATION': '', 'PYTHONUNBUFFERED': '1', '_CE_M': '', 'XML_CATALOG_FILES': 'file:///localhome/zwa170/miniconda3/envs/assembly/etc/xml/catalog file:///etc/xml/catalog', 'CONDA_ROOT': '/localhome/zwa170/miniconda3', '_CE_CONDA': '', 'PYTHONIOENCODING': 'utf-8', 'CONDA_PREFIX_1': '/localhome/zwa170/miniconda3', 'PYDEVD_IPYTHON_COMPATIBLE_DEBUGGING': '1', 'PYDEVD_USE_FRAME_EVAL': 'NO', 'TERM': 'xterm-color', 'CLICOLOR': '1', 'FORCE_COLOR': '1', 'CLICOLOR_FORCE': '1', 'PAGER': 'cat', 'GIT_PAGER': 'cat', 'MPLBACKEND': 'module://matplotlib_inline.backend_inline'}\n"
     ]
    },
    {
     "data": {
      "text/html": [
       "\n",
       "    <video width=\"320\" height=\"240\" controls autoplay muted loop>\n",
       "        <source src=\"data:video/mp4;base64,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\" type=\"video/mp4\">\n",
       "    </video>\n",
       "    "
      ],
      "text/plain": [
       "<IPython.core.display.HTML object>"
      ]
     },
     "metadata": {},
     "output_type": "display_data"
    },
    {
     "data": {
      "text/plain": [
       "'/localhome/zwa170/.temp_imgarray2video/H6GN6SPWMR.mp4'"
      ]
     },
     "execution_count": 10,
     "metadata": {},
     "output_type": "execute_result"
    }
   ],
   "source": [
    "imgs = []\n",
    "# print(parts)\n",
    "for i in sysutil.progbar(range(1, transformation.shape[0])):\n",
    "    trans = transformation[i]\n",
    "    img = render_parts(parts, camera_kwargs, trans, **render_kwargs)\n",
    "    imgs.append(img)\n",
    "\n",
    "\n",
    "# visutil.imgarray2video(targetPath=f\"./render_results/rotation_only_one_part/{file}.mp4\", img_list=imgs, extend_endframes=50)\n",
    "visutil.showVidNotebook(imgs=imgs, duration=20., end_frames=20)"
   ]
  }
 ],
 "metadata": {
  "kernelspec": {
   "display_name": "assembly",
   "language": "python",
   "name": "python3"
  },
  "language_info": {
   "codemirror_mode": {
    "name": "ipython",
    "version": 3
   },
   "file_extension": ".py",
   "mimetype": "text/x-python",
   "name": "python",
   "nbconvert_exporter": "python",
   "pygments_lexer": "ipython3",
   "version": "3.8.18"
  }
 },
 "nbformat": 4,
 "nbformat_minor": 2
}
